{
 "cells": [
  {
   "cell_type": "code",
   "execution_count": 2,
   "metadata": {},
   "outputs": [],
   "source": [
    "# Code to download Historical data from any cryptocurrency exchange\n",
    "\n",
    "import ccxt\n",
    "import datetime\n",
    "import time\n",
    "import math\n",
    "import pandas as pd\n",
    "import numpy as np\n",
    "\n",
    "symbol = 'BTC/USD'\n",
    "timeframe = '4h'\n",
    "since = '2017-01-01 00:00:00'\n",
    "\n",
    "\n",
    "def to_unix_time(timestamp):\n",
    "    epoch = datetime.datetime.utcfromtimestamp(0)  # start of epoch time\n",
    "    my_time = datetime.datetime.strptime(timestamp, \"%Y-%m-%d %H:%M:%S\")\n",
    "    diff = my_time - epoch\n",
    "    return diff.total_seconds() * 1000\n",
    "\n",
    "hist_start_date = int(to_unix_time(since))\n",
    "\n",
    "# Function for Exchange Info\n",
    "def exchange_data(exchange,symbol,timeframe,since):\n",
    "    exchange = getattr(ccxt, exchange)()\n",
    "    exchange.load_markets()\n",
    "    data = exchange.fetch_ohlcv(symbol,timeframe,since)\n",
    "    return data\n",
    "\n",
    "def csv_filename(symbol,exchange):\n",
    "    # Csv File Name\n",
    "    symbol_out = symbol.replace(\"/\", \"\")\n",
    "    filename = '{}-{}-{}.csv'.format(exchange, symbol_out, timeframe)\n",
    "    return filename\n",
    "\n",
    "# Function to write csv file\n",
    "header = ['Timestamp', 'Open', 'High', 'Low', 'Close', 'Volume']\n",
    "\n",
    "def write_to_csv(data,symbol,exchange):\n",
    "\n",
    "    df = pd.DataFrame(data, columns=header)\n",
    "    df['Timestamp'] = pd.to_datetime(df['Timestamp'], unit='ms')\n",
    "    df['Timestamp'] = df['Timestamp'].dt.strftime('%Y%m%d %H%M')\n",
    "    df[['Volume']] = df[['Volume']].astype(int)\n",
    "\n",
    "    tocsv = df.to_csv(csv_filename(symbol,exchange), index=False, header=False, sep=';')\n",
    "    return tocsv\n",
    "\n",
    "# ====== Calling the functions ======\n",
    "kraken = exchange_data('kraken','BTC/USD',timeframe=timeframe,since=hist_start_date)\n",
    "write_to_csv(kraken,'BTC/USD','kraken')\n"
   ]
  },
  {
   "cell_type": "code",
   "execution_count": null,
   "metadata": {},
   "outputs": [],
   "source": []
  }
 ],
 "metadata": {
  "kernelspec": {
   "display_name": "Python 3",
   "language": "python",
   "name": "python3"
  },
  "language_info": {
   "codemirror_mode": {
    "name": "ipython",
    "version": 3
   },
   "file_extension": ".py",
   "mimetype": "text/x-python",
   "name": "python",
   "nbconvert_exporter": "python",
   "pygments_lexer": "ipython3",
   "version": "3.7.3"
  }
 },
 "nbformat": 4,
 "nbformat_minor": 2
}
